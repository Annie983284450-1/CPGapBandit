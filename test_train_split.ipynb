{
 "cells": [
  {
   "cell_type": "code",
   "execution_count": 1,
   "id": "dab9b9c5-21cc-46bb-b82c-b64e18384d92",
   "metadata": {
    "tags": []
   },
   "outputs": [],
   "source": [
    "import numpy as np\n",
    "import pandas as pd\n",
    "import os\n",
    "import shutil\n",
    "from sklearn.model_selection import train_test_split"
   ]
  },
  {
   "cell_type": "code",
   "execution_count": 2,
   "id": "58484ce8-03c1-4093-99f1-60fd374bd6cb",
   "metadata": {
    "tags": []
   },
   "outputs": [],
   "source": [
    "def find_sepsis_file(data_path_dir):\n",
    "    id_nosepsis = []\n",
    "    id_sepsis = []\n",
    "    sepsisdata = pd.read_csv(data_path_dir)\n",
    "    for pat_id in sepsisdata.pat_id.unique():\n",
    "        curr_pat = sepsisdata[sepsisdata['pat_id']==pat_id]\n",
    "        if 1 in np.array(curr_pat.SepsisLabel):\n",
    "            id_sepsis.append(pat_id)\n",
    "        else:\n",
    "            id_nosepsis.append(pat_id)\n",
    "    return (id_nosepsis, id_sepsis)"
   ]
  },
  {
   "cell_type": "code",
   "execution_count": 3,
   "id": "3b9dfeab-a004-4ee4-bc9a-ec00a0734163",
   "metadata": {
    "tags": []
   },
   "outputs": [],
   "source": [
    "data_path = \"./data/fully_imputed.csv\"\n",
    "id_nosepsis, id_sepsis = find_sepsis_file(data_path)"
   ]
  },
  {
   "cell_type": "code",
   "execution_count": null,
   "id": "af26ab34",
   "metadata": {},
   "outputs": [],
   "source": [
    "# divide a total of 24,532 populations into septic/no-septic (1606/2,2926) patients\n",
    "# development dateset (34,285 patients, 2,492 septic & 31,793 non-septic)\n",
    "# validation dataset (6,051 patients, 440 septic & 5,611 non-septic)"
   ]
  },
  {
   "cell_type": "code",
   "execution_count": null,
   "id": "cb5b8a07",
   "metadata": {},
   "outputs": [],
   "source": []
  },
  {
   "cell_type": "code",
   "execution_count": 4,
   "id": "3bdcbc2c",
   "metadata": {},
   "outputs": [],
   "source": [
    "train_nosepsis, test_nosepsis = train_test_split(id_nosepsis, test_size=0.2, random_state=12345)\n",
    "train_sepsis, test_sepsis = train_test_split(id_sepsis, test_size=0.2, random_state=12345)\n",
    "np.save(\"./data/train_nosepsis.npy\", train_nosepsis)\n",
    "np.save(\"./data/train_sepsis.npy\", train_sepsis)\n",
    "np.save(\"./data/test_nosepsis.npy\", test_nosepsis)\n",
    "np.save(\"./data/test_sepsis.npy\", test_sepsis)"
   ]
  },
  {
   "cell_type": "code",
   "execution_count": 8,
   "id": "cafdb5bc",
   "metadata": {},
   "outputs": [],
   "source": [
    "train_nosepsis = np.load(\"./data/train_nosepsis.npy\")\n",
    "train_sepsis = np.load(\"./data/train_sepsis.npy\")\n",
    "test_nosepsis = np.load(\"./data/test_nosepsis.npy\")\n",
    "test_sepsis = np.load(\"./data/test_sepsis.npy\")"
   ]
  },
  {
   "cell_type": "code",
   "execution_count": 9,
   "id": "7c9e178d",
   "metadata": {},
   "outputs": [
    {
     "data": {
      "text/plain": [
       "(4586, 322, 18340, 1284)"
      ]
     },
     "execution_count": 9,
     "metadata": {},
     "output_type": "execute_result"
    }
   ],
   "source": [
    "len(test_nosepsis), len(test_sepsis), len(train_nosepsis), len(train_sepsis)"
   ]
  },
  {
   "cell_type": "code",
   "execution_count": 5,
   "id": "cc3e8a9c-262f-4e3a-b5f4-65184c044af0",
   "metadata": {
    "tags": []
   },
   "outputs": [
    {
     "data": {
      "text/plain": [
       "14.275217932752179"
      ]
     },
     "execution_count": 5,
     "metadata": {},
     "output_type": "execute_result"
    }
   ],
   "source": [
    "len(id_nosepsis)/len(id_sepsis)"
   ]
  },
  {
   "cell_type": "code",
   "execution_count": 6,
   "id": "b560929b-199b-4d87-a9cc-bc54cee179d7",
   "metadata": {
    "tags": []
   },
   "outputs": [
    {
     "data": {
      "text/plain": [
       "1606"
      ]
     },
     "execution_count": 6,
     "metadata": {},
     "output_type": "execute_result"
    }
   ],
   "source": [
    "len(id_sepsis)"
   ]
  },
  {
   "cell_type": "code",
   "execution_count": 7,
   "id": "decec714-b22f-40e0-a29e-8d81df57ab7c",
   "metadata": {
    "tags": []
   },
   "outputs": [
    {
     "data": {
      "text/plain": [
       "24532"
      ]
     },
     "execution_count": 7,
     "metadata": {},
     "output_type": "execute_result"
    }
   ],
   "source": [
    "22926+1606"
   ]
  },
  {
   "cell_type": "code",
   "execution_count": 13,
   "id": "e22e10c8-1e51-44d9-af77-7ab3d2765f66",
   "metadata": {
    "tags": []
   },
   "outputs": [
    {
     "data": {
      "text/plain": [
       "4906.400000000001"
      ]
     },
     "execution_count": 13,
     "metadata": {},
     "output_type": "execute_result"
    }
   ],
   "source": [
    "24532*0.2"
   ]
  },
  {
   "cell_type": "code",
   "execution_count": null,
   "id": "997ca93d-9725-4358-9610-bc68a4fb884b",
   "metadata": {},
   "outputs": [],
   "source": []
  },
  {
   "cell_type": "code",
   "execution_count": 14,
   "id": "9629efe9-894c-43de-9643-fd40fb21d3fc",
   "metadata": {
    "tags": []
   },
   "outputs": [],
   "source": []
  },
  {
   "cell_type": "code",
   "execution_count": 15,
   "id": "35c8f39c-d139-400c-9332-9f9867aa6b15",
   "metadata": {
    "tags": []
   },
   "outputs": [],
   "source": [
    "test_set = np.append(test_nosepsis, test_sepsis)"
   ]
  },
  {
   "cell_type": "code",
   "execution_count": 16,
   "id": "d902d173-a3f7-4302-8fe7-07f75bbffb7d",
   "metadata": {
    "tags": []
   },
   "outputs": [],
   "source": [
    "# np.save(\"/content/drive/MyDrive/CP_Bandit/data/train_nosepsis.npy\", train_nosepsis)\n",
    "# np.save(\"/content/drive/MyDrive/CP_Bandit/data/train_sepsis.npy\", train_sepsis)\n",
    "# np.save(\"/content/drive/MyDrive/CP_Bandit/data/test_set.npy\", test_set)\n",
    "np.save(\"./Data/train_nosepsis.npy\", train_nosepsis)\n",
    "np.save(\"./Data/train_sepsis.npy\", train_sepsis)\n",
    "np.save(\"./Data/test_set.npy\", test_set)"
   ]
  },
  {
   "cell_type": "code",
   "execution_count": null,
   "id": "903b6027-7708-4d33-b532-0cfd85d00cf3",
   "metadata": {},
   "outputs": [],
   "source": []
  }
 ],
 "metadata": {
  "kernelspec": {
   "display_name": "py37",
   "language": "python",
   "name": "python3"
  },
  "language_info": {
   "codemirror_mode": {
    "name": "ipython",
    "version": 3
   },
   "file_extension": ".py",
   "mimetype": "text/x-python",
   "name": "python",
   "nbconvert_exporter": "python",
   "pygments_lexer": "ipython3",
   "version": "3.7.16"
  }
 },
 "nbformat": 4,
 "nbformat_minor": 5
}
